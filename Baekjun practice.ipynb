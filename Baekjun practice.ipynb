{
 "cells": [
  {
   "cell_type": "markdown",
   "metadata": {},
   "source": [
    "### 백준 온라인 문제 1000번 https://www.acmicpc.net/problem/1000"
   ]
  },
  {
   "cell_type": "code",
   "execution_count": 1,
   "metadata": {},
   "outputs": [
    {
     "name": "stdout",
     "output_type": "stream",
     "text": [
      "10 20\n",
      "30\n"
     ]
    }
   ],
   "source": [
    "def add(a, b):\n",
    "    return a+b\n",
    "\n",
    "a, b = input().split()\n",
    "a = int(a)\n",
    "b = int(b)\n",
    "\n",
    "print(add(a, b))"
   ]
  },
  {
   "cell_type": "markdown",
   "metadata": {},
   "source": [
    "### 백준 온라인 문제 1001번 https://www.acmicpc.net/problem/1001"
   ]
  },
  {
   "cell_type": "code",
   "execution_count": 2,
   "metadata": {},
   "outputs": [
    {
     "name": "stdout",
     "output_type": "stream",
     "text": [
      "34 11\n",
      "23\n"
     ]
    }
   ],
   "source": [
    "def subtract(a, b):\n",
    "    return a-b\n",
    "\n",
    "a, b = input().split()\n",
    "a = int(a)\n",
    "b = int(b)\n",
    "print(subtract(a, b))"
   ]
  },
  {
   "cell_type": "markdown",
   "metadata": {},
   "source": [
    "### 백준 온라인 문제 1008번 https://www.acmicpc.net/problem/1008"
   ]
  },
  {
   "cell_type": "code",
   "execution_count": 4,
   "metadata": {},
   "outputs": [
    {
     "name": "stdout",
     "output_type": "stream",
     "text": [
      "1 3\n",
      "0.3333333333333333\n"
     ]
    }
   ],
   "source": [
    "def divide(a, b):\n",
    "    return(a/b)\n",
    "a, b = input().split()\n",
    "a = int(a)\n",
    "b = int(b)\n",
    "print(divide(a, b))"
   ]
  },
  {
   "cell_type": "markdown",
   "metadata": {},
   "source": [
    "### 백준 온라인 문제 2558번 https://www.acmicpc.net/problem/2558"
   ]
  },
  {
   "cell_type": "code",
   "execution_count": 5,
   "metadata": {},
   "outputs": [
    {
     "name": "stdout",
     "output_type": "stream",
     "text": [
      "1\n",
      "2\n",
      "3\n"
     ]
    }
   ],
   "source": [
    "def add(a, b):\n",
    "    return(a+b)\n",
    "a = input()\n",
    "b = input()\n",
    "a = int(a)\n",
    "b = int(b)\n",
    "print(add(a, b))"
   ]
  },
  {
   "cell_type": "markdown",
   "metadata": {},
   "source": [
    "### 백준 온라인 문제 10950번 https://www.acmicpc.net/problem/10950\n",
    "\n",
    "#### def 함수로 만들려니까 안된다. 원래 def 함수를 쓰면 안되는 문제인지, 내 실력이 부족해서 그런건지는 아직 모르겠다.\n",
    "\n"
   ]
  },
  {
   "cell_type": "code",
   "execution_count": 28,
   "metadata": {},
   "outputs": [
    {
     "name": "stdout",
     "output_type": "stream",
     "text": [
      "3\n",
      "2 4\n",
      "6\n",
      "1 2\n",
      "3\n",
      "3 3\n",
      "6\n",
      "6\n"
     ]
    }
   ],
   "source": [
    "T = input()\n",
    "T = int(T)\n",
    "\n",
    "def exam(a, b):\n",
    "    for i in range(T):\n",
    "        a, b = input().split()\n",
    "        a = int(a)\n",
    "        b = int(b)\n",
    "        print(a+b)\n",
    "    return(a+b)\n",
    "\n",
    "print(exam(a, b))"
   ]
  },
  {
   "cell_type": "code",
   "execution_count": null,
   "metadata": {},
   "outputs": [],
   "source": []
  }
 ],
 "metadata": {
  "kernelspec": {
   "display_name": "Python 3",
   "language": "python",
   "name": "python3"
  },
  "language_info": {
   "codemirror_mode": {
    "name": "ipython",
    "version": 3
   },
   "file_extension": ".py",
   "mimetype": "text/x-python",
   "name": "python",
   "nbconvert_exporter": "python",
   "pygments_lexer": "ipython3",
   "version": "3.8.5"
  }
 },
 "nbformat": 4,
 "nbformat_minor": 4
}
