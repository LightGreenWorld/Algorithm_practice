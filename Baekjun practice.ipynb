{
 "cells": [
  {
   "cell_type": "markdown",
   "metadata": {},
   "source": [
    "백준-> boj.kr/문제번호\n",
    "\n",
    "입출력 - 29문제\t\n",
    "#2557, #1000, #2558, #10950, 10951, 10952, 10953, 11021, 11022, 11718,\n",
    "11719, 11720, 11721, 2741, 2742, 2739, 1924, 8393, 10818, 2438,\n",
    "2439, 2440, 2441, 2442, 2445, 2522, 2446, 10991, 10992\n",
    "\n",
    "DP -21문제\n",
    "1463, 11726, 11727, 9095, 10844, 11057, 2193, 9465, 2156, 11053,\n",
    "11055, 11722, 11054, 1912, 2579, 1699, 2133, 9461, 2225, 2011,\n",
    " 11052\n",
    "\n",
    "이런저런문제 -41문제\n",
    "2751, 11650, 11651, 10814, 10825, 10989, 11652, 11004, 10828, 9012, 10799, 10845, 10866, 10808, 10809, 10820, 2743, 11655, 10824, 11656, 1406, 1158, 1168, 10430, 2609, 1934, 1850, 9613, 11005, 2745, 1373, 1212, 2089, 11576, 1978, 1929, 6588, 11653, 10872, 1676, 2004\n",
    "\n",
    "그래프 - 15문제\n",
    "1260, 11724, 1707, 10451, 2331, 9466, 2667, 4963, 7576, 2178, 2146, 1991, 11725, 1167, 1967\n",
    "\n",
    "탐색 -6문제\n",
    "1654, 2805, 2110, 10815, 10816, 11662\n",
    "\n",
    "분할정복 -8문제\n",
    "11728, 1780, 11729, 1992, 2447, 2448, 1517, 2261\n",
    "\n",
    "그리디 -8문제\n",
    "11047, 2875, 10610, 1783, 1931, 11399, 2873, 1744\n",
    "\n",
    "완전탐색 -27문제\n",
    "1476, 1107, 1451, 9095, 10819, 10971, 1697, 1963, 9019, 1525, 2251, 2186, 3108, 5014, 1759, 2580, 1987, 6603, 1182, 2003, 1806, 1644, 1261, 1208, 7453, 2632, 21436\n",
    "\n",
    "출처: https://plzrun.tistory.com/entry/%EC%95%8C%EA%B3%A0%EB%A6%AC%EC%A6%98-%EB%AC%B8%EC%A0%9C%ED%92%80%EC%9D%B4PS-%EC%8B%9C%EC%9E%91%ED%95%98%EA%B8%B0"
   ]
  },
  {
   "cell_type": "markdown",
   "metadata": {},
   "source": [
    "### 백준 온라인 문제 1000번 https://www.acmicpc.net/problem/1000"
   ]
  },
  {
   "cell_type": "code",
   "execution_count": null,
   "metadata": {},
   "outputs": [],
   "source": [
    "def add(a, b):\n",
    "    return a+b\n",
    "\n",
    "a, b = input().split()\n",
    "a = int(a)\n",
    "b = int(b)\n",
    "\n",
    "print(add(a, b))"
   ]
  },
  {
   "cell_type": "markdown",
   "metadata": {},
   "source": [
    "### 백준 온라인 문제 1001번 https://www.acmicpc.net/problem/1001"
   ]
  },
  {
   "cell_type": "code",
   "execution_count": null,
   "metadata": {},
   "outputs": [],
   "source": [
    "def subtract(a, b):\n",
    "    return a-b\n",
    "\n",
    "a, b = input().split()\n",
    "a = int(a)\n",
    "b = int(b)\n",
    "print(subtract(a, b))"
   ]
  },
  {
   "cell_type": "markdown",
   "metadata": {},
   "source": [
    "### 백준 온라인 문제 1008번 https://www.acmicpc.net/problem/1008"
   ]
  },
  {
   "cell_type": "code",
   "execution_count": null,
   "metadata": {},
   "outputs": [],
   "source": [
    "def divide(a, b):\n",
    "    return(a/b)\n",
    "\n",
    "a, b = input().split()\n",
    "a = int(a)\n",
    "b = int(b)\n",
    "print(divide(a, b))"
   ]
  },
  {
   "cell_type": "markdown",
   "metadata": {},
   "source": [
    "### 백준 온라인 문제 2558번 https://www.acmicpc.net/problem/2558"
   ]
  },
  {
   "cell_type": "code",
   "execution_count": null,
   "metadata": {},
   "outputs": [],
   "source": [
    "def add(a, b):\n",
    "    return(a+b)\n",
    "a = input()\n",
    "b = input()\n",
    "a = int(a)\n",
    "b = int(b)\n",
    "print(add(a, b))"
   ]
  },
  {
   "cell_type": "markdown",
   "metadata": {},
   "source": [
    "### 백준 온라인 문제 10950번 https://www.acmicpc.net/problem/10950\n",
    "\n",
    "#### def 함수로 만들려니까 안된다. 원래 def 함수를 쓰면 안되는 문제인지, 내 실력이 부족해서 그런건지는 아직 모르겠다.\n",
    "#### But 해결!"
   ]
  },
  {
   "cell_type": "code",
   "execution_count": null,
   "metadata": {
    "scrolled": true
   },
   "outputs": [],
   "source": [
    "T = input()\n",
    "T = int(T)\n",
    "\n",
    "def exam(a, b):\n",
    "    return(a+b)\n",
    "\n",
    "for i in range(T):\n",
    "        a, b = input().split()\n",
    "        a = int(a)\n",
    "        b = int(b)\n",
    "        print(exam(a, b))\n",
    "        \n",
    "# T = input()\n",
    "# T = int(T)\n",
    "\n",
    "# def exam(a, b):\n",
    "#     for i in range(T):\n",
    "#         a, b = input().split()\n",
    "#         a = int(a)\n",
    "#         b = int(b)\n",
    "#         print(a+b)\n",
    "#     return(a+b)\n",
    "\n",
    "# print(exam(a, b))"
   ]
  },
  {
   "cell_type": "markdown",
   "metadata": {},
   "source": [
    "### 백준 온라인 문제 10951번 https://www.acmicpc.net/problem/10951\n"
   ]
  },
  {
   "cell_type": "code",
   "execution_count": null,
   "metadata": {
    "scrolled": true
   },
   "outputs": [],
   "source": [
    "def add(a, b):\n",
    "    return(a+b)\n",
    "\n",
    "while 1:\n",
    "    a, b = input().split()\n",
    "    a = int(a)\n",
    "    b = int(b)\n",
    "    print(add(a, b))\n",
    "    \n",
    "\n",
    "    \n",
    "\n",
    "\n",
    "        "
   ]
  },
  {
   "cell_type": "markdown",
   "metadata": {},
   "source": [
    "### 백준 온라인 문제 2557번 https://www.acmicpc.net/problem/2557"
   ]
  },
  {
   "cell_type": "code",
   "execution_count": 13,
   "metadata": {},
   "outputs": [
    {
     "name": "stdout",
     "output_type": "stream",
     "text": [
      "Hello World!\n"
     ]
    }
   ],
   "source": [
    "def HelloWorld(a):\n",
    "    return (print(a))\n",
    "a = HelloWorld(\"Hello World!\")"
   ]
  },
  {
   "cell_type": "markdown",
   "metadata": {},
   "source": [
    "### 백준 온라인 문제 2741번 https://www.acmicpc.net/problem/2741"
   ]
  },
  {
   "cell_type": "code",
   "execution_count": null,
   "metadata": {},
   "outputs": [],
   "source": []
  }
 ],
 "metadata": {
  "kernelspec": {
   "display_name": "Python 3",
   "language": "python",
   "name": "python3"
  },
  "language_info": {
   "codemirror_mode": {
    "name": "ipython",
    "version": 3
   },
   "file_extension": ".py",
   "mimetype": "text/x-python",
   "name": "python",
   "nbconvert_exporter": "python",
   "pygments_lexer": "ipython3",
   "version": "3.8.5"
  }
 },
 "nbformat": 4,
 "nbformat_minor": 4
}
