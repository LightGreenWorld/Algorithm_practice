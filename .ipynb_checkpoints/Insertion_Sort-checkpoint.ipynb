{
 "cells": [
  {
   "cell_type": "code",
   "execution_count": 116,
   "metadata": {},
   "outputs": [],
   "source": [
    "def insertion_sort(A, n):\n",
    "    if len(A) <= n:\n",
    "        print(\"Step n 값을 다시 설정해주세요\")\n",
    "    else:\n",
    "        for b in range(1, n+1):\n",
    "            a = b - 1\n",
    "            while a >= 0 and A[a] > A[b]:\n",
    "                temp = A[a]\n",
    "                A.insert(a, A[b])\n",
    "                del A[a+2]\n",
    "                a -= 1\n",
    "                b -= 1\n",
    "        return '{}, Step {}'.format(A, n)\n",
    "\n",
    "# 와우 완성"
   ]
  },
  {
   "cell_type": "code",
   "execution_count": null,
   "metadata": {},
   "outputs": [],
   "source": [
    "def insertion_sort(A, n):\n",
    "    for i in (1, n):    \n",
    "        location = i-1\n",
    "        while location >= 0 and A[i] < A[location]: \n",
    "            location -= 1\n",
    "        A.insert(location+1, A[i])\n",
    "        del A[i+1]\n",
    "    return A\n",
    "\n",
    "# 2021.06.03 왜 n=3부터 이상해지는지 모르겠다...... 나중에 다시 고쳐야지...."
   ]
  }
 ],
 "metadata": {
  "kernelspec": {
   "display_name": "Python 3",
   "language": "python",
   "name": "python3"
  },
  "language_info": {
   "codemirror_mode": {
    "name": "ipython",
    "version": 3
   },
   "file_extension": ".py",
   "mimetype": "text/x-python",
   "name": "python",
   "nbconvert_exporter": "python",
   "pygments_lexer": "ipython3",
   "version": "3.8.5"
  }
 },
 "nbformat": 4,
 "nbformat_minor": 4
}
