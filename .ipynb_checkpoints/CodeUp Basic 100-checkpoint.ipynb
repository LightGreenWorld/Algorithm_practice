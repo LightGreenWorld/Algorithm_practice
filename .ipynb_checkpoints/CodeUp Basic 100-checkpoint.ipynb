{
 "cells": [
  {
   "cell_type": "code",
   "execution_count": null,
   "metadata": {},
   "outputs": [],
   "source": [
    "a=float(input())\n",
    "print( format(a, \".2f\") )"
   ]
  },
  {
   "cell_type": "code",
   "execution_count": null,
   "metadata": {},
   "outputs": [],
   "source": [
    "f1, f2 = input().split(\" \")\n",
    "f1 = float(f1)\n",
    "f2 = float(f2)\n",
    "a = f1/f2\n",
    "print(format(a, \".3f\"))"
   ]
  },
  {
   "cell_type": "code",
   "execution_count": null,
   "metadata": {},
   "outputs": [],
   "source": [
    "a, b = input().split(\" \")\n",
    "a = int(a)\n",
    "b = int(b)\n",
    "print(a+b)\n",
    "print(a-b)\n",
    "print(a*b)\n",
    "print(a//b)\n",
    "print(a%b)\n",
    "print(format(a/b,\".2f\"))"
   ]
  },
  {
   "cell_type": "code",
   "execution_count": null,
   "metadata": {},
   "outputs": [],
   "source": [
    "a, b, c = input().split(\" \")\n",
    "a = int(a)\n",
    "b = int(b)\n",
    "c = int(c)\n",
    "\n",
    "d = a+b+c\n",
    "e = d / 3\n",
    "e = round(e, 2)\n",
    "print(d, format(e, \".2f\"))"
   ]
  },
  {
   "cell_type": "code",
   "execution_count": null,
   "metadata": {
    "scrolled": true
   },
   "outputs": [],
   "source": [
    "round(10.23423, 2)"
   ]
  },
  {
   "cell_type": "code",
   "execution_count": null,
   "metadata": {},
   "outputs": [],
   "source": [
    "a = int(input())\n",
    "\n",
    "print(a << 1)"
   ]
  },
  {
   "cell_type": "code",
   "execution_count": null,
   "metadata": {},
   "outputs": [],
   "source": [
    "a, b = map(int, input().split(\" \"))\n",
    "print(a << b)"
   ]
  },
  {
   "cell_type": "code",
   "execution_count": null,
   "metadata": {},
   "outputs": [],
   "source": [
    "a, b = map(int, input().split(\" \"))\n",
    "\n",
    "if b >= a :\n",
    "    print(True)\n",
    "else:\n",
    "    print(False)"
   ]
  },
  {
   "cell_type": "code",
   "execution_count": null,
   "metadata": {},
   "outputs": [],
   "source": [
    "a = int(input())\n",
    "b = ~a\n",
    "print(b)"
   ]
  },
  {
   "cell_type": "code",
   "execution_count": null,
   "metadata": {},
   "outputs": [],
   "source": [
    " n = input()\n",
    " a, b = map(int, n.split(\" \"))\n",
    " c = (a if (a>=b) else b)\n",
    " print(int(c))"
   ]
  },
  {
   "cell_type": "code",
   "execution_count": null,
   "metadata": {},
   "outputs": [],
   "source": [
    "n = input()\n",
    "a, b, c = map(int, n.split(\" \"))\n",
    "d = (a if a<b else b) if ((a if a<b else b)<c) else c\n",
    "print(int(d))"
   ]
  },
  {
   "cell_type": "code",
   "execution_count": null,
   "metadata": {},
   "outputs": [],
   "source": [
    "c = input()\n",
    "\n",
    "if c == \"A\":\n",
    "    print(\"best!!!\")\n",
    "\n",
    "elif c == \"B\":\n",
    "    print(\"good!!\")\n",
    "    \n",
    "elif c == \"C\":\n",
    "    print(\"run!\")\n",
    "    \n",
    "elif c == \"D\":\n",
    "    print(\"slowly~\")\n",
    "    \n",
    "else:\n",
    "    print(\"what?\")"
   ]
  },
  {
   "cell_type": "code",
   "execution_count": null,
   "metadata": {
    "scrolled": true
   },
   "outputs": [],
   "source": [
    "n = 1\n",
    "while True:\n",
    "    n = int(input())\n",
    "    if n == 0:\n",
    "        break\n",
    "    else:\n",
    "        print(n)"
   ]
  },
  {
   "cell_type": "code",
   "execution_count": null,
   "metadata": {
    "scrolled": true
   },
   "outputs": [],
   "source": [
    "n = int(input())\n",
    "while True:\n",
    "    print(n)\n",
    "    n = n - 1\n",
    "    if n == 0:\n",
    "        break"
   ]
  },
  {
   "cell_type": "code",
   "execution_count": null,
   "metadata": {
    "scrolled": true
   },
   "outputs": [],
   "source": [
    "n = int(input())\n",
    "while True:\n",
    "    n = n - 1\n",
    "    print(n)\n",
    "    if n == 0:\n",
    "        break"
   ]
  },
  {
   "cell_type": "code",
   "execution_count": null,
   "metadata": {},
   "outputs": [],
   "source": [
    "a = ord(input())\n",
    "print(a)\n",
    "\n",
    "b = chr(65)\n",
    "print(b)"
   ]
  },
  {
   "cell_type": "code",
   "execution_count": null,
   "metadata": {},
   "outputs": [],
   "source": [
    "n = ord(input())\n",
    "while True:\n",
    "    n = int(n)\n",
    "    c = chr(n)\n",
    "    print(c, end=' ')\n",
    "    n = n - 1\n",
    "    if n < ord('A'):\n",
    "        break"
   ]
  },
  {
   "cell_type": "code",
   "execution_count": null,
   "metadata": {},
   "outputs": [],
   "source": [
    "print(ord('b'))\n",
    "a = 100 - ord('b')\n",
    "print(a)\n",
    "\n",
    "# ord() 명령어로 얻은 특정 문자의 코드값의 데이터형식은 int"
   ]
  },
  {
   "cell_type": "code",
   "execution_count": null,
   "metadata": {},
   "outputs": [],
   "source": [
    "c = ord(input())\n",
    "t = ord('a')\n",
    "while t<=c :\n",
    "  print(chr(t), end=' ')\n",
    "  t += 1"
   ]
  },
  {
   "cell_type": "code",
   "execution_count": null,
   "metadata": {},
   "outputs": [],
   "source": [
    "c = ord(input())\n",
    "t = ord('a')\n",
    "while t<=c :\n",
    "    print(chr(t), end=' ')\n",
    "    t += 1"
   ]
  },
  {
   "cell_type": "code",
   "execution_count": null,
   "metadata": {},
   "outputs": [],
   "source": [
    "# 너무 어렵게 갔다....\n",
    "\n",
    "n = ord(input())\n",
    "while True:\n",
    "    p = n - ord('a')\n",
    "    z = ord('a') + p - q\n",
    "    z = chr(z)\n",
    "    print(z, end=' ')\n",
    "    q = q - 1\n",
    "    \n",
    "    if p == n:\n",
    "        break"
   ]
  },
  {
   "cell_type": "code",
   "execution_count": null,
   "metadata": {},
   "outputs": [],
   "source": [
    "n = int(input())\n",
    "a = 0\n",
    "while n >= a:\n",
    "    print(a)\n",
    "    a += 1"
   ]
  },
  {
   "cell_type": "code",
   "execution_count": null,
   "metadata": {
    "scrolled": true
   },
   "outputs": [],
   "source": [
    "i = int(input())\n",
    "for i in range(0, i+1):\n",
    "    print(i)"
   ]
  },
  {
   "cell_type": "code",
   "execution_count": null,
   "metadata": {},
   "outputs": [],
   "source": [
    "n = int(input())\n",
    "a = 0\n",
    "b = 0\n",
    "while True:\n",
    "    b += 1\n",
    "    if n == b :\n",
    "        print(a)\n",
    "        break\n",
    "    else:\n",
    "        if n%2 == 0:\n",
    "            a += n\n",
    "        else:\n",
    "            pass       "
   ]
  },
  {
   "cell_type": "code",
   "execution_count": null,
   "metadata": {},
   "outputs": [],
   "source": [
    "for i in range(0, 5, 2):\n",
    "    i\n",
    "print(i)"
   ]
  },
  {
   "cell_type": "code",
   "execution_count": null,
   "metadata": {
    "scrolled": true
   },
   "outputs": [],
   "source": [
    "## 6077. 짝수 합 구하기_for문 \n",
    "n = int(input())\n",
    "a =[]\n",
    "for i in range(0, n+1, 2):\n",
    "    a.append(i)\n",
    "#     print(\"속에 있는 i\", i)\n",
    "print(sum(a))\n",
    "\n",
    "\n",
    "## 6077. 짝수 합 구하기_while문\n",
    "n = int(input())\n",
    "a=[]\n",
    "b=0\n",
    "while n > b:\n",
    "    b += 1\n",
    "    if b%2 == 0:\n",
    "        a.append(b)\n",
    "    else:\n",
    "        continue\n",
    "print(sum(a))"
   ]
  },
  {
   "cell_type": "code",
   "execution_count": null,
   "metadata": {},
   "outputs": [],
   "source": [
    "n = int(input())\n",
    "a=[]\n",
    "b=0\n",
    "while n > b:\n",
    "    b += 1\n",
    "    if b%2 == 0:\n",
    "        a.append(b)\n",
    "    else:\n",
    "        continue\n",
    "print(sum(a))"
   ]
  },
  {
   "cell_type": "code",
   "execution_count": null,
   "metadata": {},
   "outputs": [],
   "source": [
    "n = 5\n",
    "a = 0\n",
    "\n",
    "if n%2 == 0:\n",
    "    a += n\n",
    "    print(a)\n",
    "else:\n",
    "    pass"
   ]
  },
  {
   "cell_type": "code",
   "execution_count": null,
   "metadata": {},
   "outputs": [],
   "source": [
    "while True:\n",
    "    c = input()\n",
    "    if c != 'q':\n",
    "        print(c)\n",
    "        continue\n",
    "    else:\n",
    "        print(c)\n",
    "        break"
   ]
  },
  {
   "cell_type": "code",
   "execution_count": null,
   "metadata": {},
   "outputs": [],
   "source": [
    "# 6079_언제까지 더해야 할까?\n",
    "# 시간 초과\n",
    "\n",
    "n = int(input())\n",
    "a = 0\n",
    "b = []\n",
    "while True:\n",
    "    a += 1\n",
    "    b.append(a)\n",
    "    c = sum(b)\n",
    "    if c == n:\n",
    "        print(a)\n",
    "        break\n",
    "    else:\n",
    "        continue"
   ]
  },
  {
   "cell_type": "code",
   "execution_count": null,
   "metadata": {},
   "outputs": [],
   "source": [
    "# 6079_언제까지 더해야 할까?\n",
    "# 정답\n",
    "n = int(input())\n",
    "a = 0\n",
    "b = []\n",
    "while n > sum(b):\n",
    "    a += 1\n",
    "    b.append(a)\n",
    "print(a)"
   ]
  },
  {
   "cell_type": "code",
   "execution_count": null,
   "metadata": {},
   "outputs": [],
   "source": [
    "#6080_주사위 2개 던지기(m, n)\n",
    "\n",
    "a = input()\n",
    "m, n = map(int, a.split(' '))\n",
    "for i in range(1, m+1):\n",
    " for j in range(1, n+1):\n",
    "    print(i, j)"
   ]
  },
  {
   "cell_type": "code",
   "execution_count": null,
   "metadata": {},
   "outputs": [],
   "source": [
    "# 6081_16진수 구구단 출력하기\n",
    "\n",
    "a = input()\n",
    "b = int(a,16)\n",
    "\n",
    "for i in range(1, 16):\n",
    "    print(a, '*%X'%i, '=', '%X'%(b*i), sep='')"
   ]
  },
  {
   "cell_type": "code",
   "execution_count": null,
   "metadata": {},
   "outputs": [],
   "source": [
    "# 6082_3 6 9 게임의 왕이 되자\n",
    "\n",
    "a = int(input())\n",
    "for i in range(1, a+1):\n",
    "    i = str(i)\n",
    "    if ('3' in i) or ('6' in i) or ('9' in i):\n",
    "        print('X', end=' ')\n",
    "    else:\n",
    "        print(i, end=' ')"
   ]
  },
  {
   "cell_type": "code",
   "execution_count": null,
   "metadata": {},
   "outputs": [],
   "source": [
    "# 6083_빛 섞어 색 만들기\n",
    "\n",
    "a = input()\n",
    "r, g, b = map(int, a.split(\" \"))\n",
    "c = 0\n",
    "for i in range(0, r):\n",
    "    for j in range(0, g):\n",
    "        for z in range(0, b):\n",
    "            c += 1\n",
    "            print(i, j, z)\n",
    "print(c)"
   ]
  },
  {
   "cell_type": "code",
   "execution_count": null,
   "metadata": {},
   "outputs": [],
   "source": [
    "a = input()\n",
    "h, b, c, s = map(int, a.split(\" \"))\n",
    "\n",
    "Hz = (h * b * c * s) / (8*1024*1024) # 분자에 8이 속한 이유는 1bit기준으로 값을 만들어야하기 때문.\n",
    "Hz = round(Hz, 1)\n",
    "print(\"{} MB\".format(Hz))"
   ]
  },
  {
   "cell_type": "code",
   "execution_count": null,
   "metadata": {},
   "outputs": [],
   "source": [
    "a = input()\n",
    "w, h, b = map(int, a.split(\" \"))\n",
    "\n",
    "Px = (w * h * b)/ (8*1024*1024)\n",
    "Px = round(Px, 2)\n",
    "print(\"%.2f MB\" %(Px))"
   ]
  },
  {
   "cell_type": "code",
   "execution_count": null,
   "metadata": {},
   "outputs": [],
   "source": [
    "a = []\n",
    "b = sum(a)\n",
    "print(b)"
   ]
  },
  {
   "cell_type": "code",
   "execution_count": null,
   "metadata": {},
   "outputs": [],
   "source": [
    "a = int(input())\n",
    "b = []\n",
    "i = 0\n",
    "while True:\n",
    "    i += 1\n",
    "    if a > sum(b):\n",
    "        b.append(i)\n",
    "        continue\n",
    "    else:\n",
    "        print(sum(b))\n",
    "        break"
   ]
  },
  {
   "cell_type": "code",
   "execution_count": null,
   "metadata": {},
   "outputs": [],
   "source": [
    "# 1부터 입력한 정수보다 작거나 같을 때까지 1씩 증가시켜 출력하되\n",
    "# 3의 배수는 출력하지 않는다.\n",
    "\n",
    "a = int(input())\n",
    "i = 0\n",
    "while a > i:\n",
    "    i += 1\n",
    "    if i%3!=0 :\n",
    "        print(i, end=' ')\n",
    "        continue\n",
    "    else:\n",
    "        continue"
   ]
  },
  {
   "cell_type": "code",
   "execution_count": null,
   "metadata": {
    "scrolled": true
   },
   "outputs": [],
   "source": [
    "for i in range(-1):\n",
    "    print(i)"
   ]
  },
  {
   "cell_type": "code",
   "execution_count": null,
   "metadata": {},
   "outputs": [],
   "source": [
    "# 시작 값(a), 등차의 값(d), 몇 번째 수 인지를 의미하는 정수(n)가\n",
    "# 공백을 두고 입력된다.(모두 0 ~ 100)\n",
    "# ex) 1 3 5 >> 13\n",
    "\n",
    "a, d, n = map(int,input().split(\" \"))\n",
    "for i in range(n-1):\n",
    "    a += d\n",
    "print(a)\n",
    "\n",
    "\n",
    "a, d, n = map(int, input().split(\" \"))\n",
    "print(a+(n-1)*d)"
   ]
  },
  {
   "cell_type": "code",
   "execution_count": null,
   "metadata": {},
   "outputs": [],
   "source": [
    "# 시작 값(a), 등비의 값(r), 몇 번째 인지를 나타내는 정수(n)가\n",
    "# 공백을 두고 입력된다.(모두 0 ~ 10)\n",
    "# ex) 2 3 7 >> 1458\n",
    "\n",
    "a, r, n = map(int,input().split(\" \"))\n",
    "for i in range(n-1):\n",
    "    a *= r\n",
    "print(a)\n",
    "\n",
    "a, r, n = map(int,input().split(\" \"))\n",
    "print(a*r^(n-1))"
   ]
  },
  {
   "cell_type": "code",
   "execution_count": 4,
   "metadata": {},
   "outputs": [
    {
     "name": "stdout",
     "output_type": "stream",
     "text": [
      "1 -2 1 8\n",
      "-85\n"
     ]
    }
   ],
   "source": [
    "# 시작 값(a), 곱할 값(m), 더할 값(d), 몇 번째 인지를 나타내는 정수(n)가\n",
    "# 공백을 두고 입력된다.(a, m, d는 -50 ~ +50, n은 10이하의 자연수)\n",
    "# ex) 1 -2 1 8 >> -85\n",
    "\n",
    "a, m, d, n = map(int, input().split(\" \"))\n",
    "for i in range(n-1):\n",
    "    a = (a*m)+d\n",
    "print(a)"
   ]
  }
 ],
 "metadata": {
  "kernelspec": {
   "display_name": "Python 3",
   "language": "python",
   "name": "python3"
  },
  "language_info": {
   "codemirror_mode": {
    "name": "ipython",
    "version": 3
   },
   "file_extension": ".py",
   "mimetype": "text/x-python",
   "name": "python",
   "nbconvert_exporter": "python",
   "pygments_lexer": "ipython3",
   "version": "3.8.5"
  }
 },
 "nbformat": 4,
 "nbformat_minor": 4
}
